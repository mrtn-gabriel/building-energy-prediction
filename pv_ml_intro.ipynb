{
  "cells": [
    {
      "cell_type": "markdown",
      "id": "d907910b",
      "metadata": {
        "id": "title"
      },
      "source": [
        "# PV Power Prediction — Quick Guide\n",
        "\n",
        "Train a simple linear model to predict rooftop PV power from weather features; explore data, split train/test, evaluate metrics, and plot results.\n",
        "\n",
        "#### Data source:\n",
        "- Dryad dataset: Lin et al. (2024) — DOI: 10.5061/dryad.m37pvmd99 (https://datadryad.org/dataset/doi%3A10.5061/dryad.m37pvmd99)\n",
        "- Article: Lin et al. (2025), Scientific Data 12, 63 — DOI: 10.1038/s41597-025-04397-y\n",
        "\n",
        "#### How to use in Colab:\n",
        "[![Open In Colab](https://colab.research.google.com/assets/colab-badge.svg)](https://colab.research.google.com/github/mrtn-gabriel/building-energy-prediction/blob/main/pv_ml_intro.ipynb)\n",
        "1) Open this notebook in Colab by clicking the link above.\n",
        "2) Runtime → Run all\n",
        "\n",
        "#### Run locally:\n",
        "- `python -m pip install -r requirements.txt`\n",
        "- Open the notebook with JupyterLab or VS Code and run cells.\n"
      ]
    },
    {
      "cell_type": "markdown",
      "id": "a99952f8",
      "metadata": {
        "id": "imports-md"
      },
      "source": [
        "## Imports and Style\n",
        "We import the libraries and set a simple plotting style.\n"
      ]
    },
    {
      "cell_type": "code",
      "execution_count": null,
      "id": "9d804321",
      "metadata": {
        "id": "imports"
      },
      "outputs": [],
      "source": [
        "import sys\n",
        "\n",
        "if 'google.colab' in sys.modules:\n",
        "    !pip install -q \"numpy>=1.23\" \"pandas>=1.5\" \"matplotlib>=3.6\" \"scikit-learn>=1.2\" \"seaborn>=0.12\" \"openpyxl>=3.1\"\n",
        "    !mkdir data\n",
        "    !wget -P data/ \"https://raw.githubusercontent.com/mrtn-gabriel/building-energy-prediction/refs/heads/main/data/SQ8.csv\"\n",
        "\n",
        "from pathlib import Path\n",
        "import numpy as np, pandas as pd\n",
        "import matplotlib.pyplot as plt, seaborn as sns\n",
        "from sklearn.linear_model import LinearRegression\n",
        "from sklearn.metrics import mean_absolute_error, r2_score\n",
        "from sklearn.preprocessing import StandardScaler\n",
        "\n",
        "sns.set_theme(context='talk', style='whitegrid')"
      ]
    },
    {
      "cell_type": "markdown",
      "id": "6a4a9612",
      "metadata": {
        "id": "load-md"
      },
      "source": [
        "## Load and Inspect Data\n"
      ]
    },
    {
      "cell_type": "code",
      "execution_count": 4,
      "id": "6b86a63d",
      "metadata": {
        "id": "load"
      },
      "outputs": [
        {
          "data": {
            "text/html": [
              "<div>\n",
              "<style scoped>\n",
              "    .dataframe tbody tr th:only-of-type {\n",
              "        vertical-align: middle;\n",
              "    }\n",
              "\n",
              "    .dataframe tbody tr th {\n",
              "        vertical-align: top;\n",
              "    }\n",
              "\n",
              "    .dataframe thead th {\n",
              "        text-align: right;\n",
              "    }\n",
              "</style>\n",
              "<table border=\"1\" class=\"dataframe\">\n",
              "  <thead>\n",
              "    <tr style=\"text-align: right;\">\n",
              "      <th></th>\n",
              "      <th>power</th>\n",
              "      <th>irradiance</th>\n",
              "      <th>rh</th>\n",
              "      <th>slp</th>\n",
              "      <th>temp</th>\n",
              "      <th>vis</th>\n",
              "      <th>wind_speed</th>\n",
              "      <th>wind_direction</th>\n",
              "    </tr>\n",
              "    <tr>\n",
              "      <th>time</th>\n",
              "      <th></th>\n",
              "      <th></th>\n",
              "      <th></th>\n",
              "      <th></th>\n",
              "      <th></th>\n",
              "      <th></th>\n",
              "      <th></th>\n",
              "      <th></th>\n",
              "    </tr>\n",
              "  </thead>\n",
              "  <tbody>\n",
              "    <tr>\n",
              "      <th>2021-04-12 07:00:00</th>\n",
              "      <td>286.0</td>\n",
              "      <td>17.0830</td>\n",
              "      <td>90.738</td>\n",
              "      <td>1007.94913</td>\n",
              "      <td>20.958</td>\n",
              "      <td>15.990</td>\n",
              "      <td>1.88180</td>\n",
              "      <td>3.6675</td>\n",
              "    </tr>\n",
              "    <tr>\n",
              "      <th>2021-04-12 08:00:00</th>\n",
              "      <td>1402.0</td>\n",
              "      <td>15.4290</td>\n",
              "      <td>88.580</td>\n",
              "      <td>1008.19913</td>\n",
              "      <td>21.795</td>\n",
              "      <td>15.989</td>\n",
              "      <td>0.60342</td>\n",
              "      <td>65.7850</td>\n",
              "    </tr>\n",
              "    <tr>\n",
              "      <th>2021-04-12 09:00:00</th>\n",
              "      <td>3182.0</td>\n",
              "      <td>17.3000</td>\n",
              "      <td>79.975</td>\n",
              "      <td>1008.09913</td>\n",
              "      <td>23.605</td>\n",
              "      <td>15.989</td>\n",
              "      <td>1.19120</td>\n",
              "      <td>16.1020</td>\n",
              "    </tr>\n",
              "    <tr>\n",
              "      <th>2021-04-12 10:00:00</th>\n",
              "      <td>5907.0</td>\n",
              "      <td>8.0436</td>\n",
              "      <td>81.307</td>\n",
              "      <td>1007.94913</td>\n",
              "      <td>23.553</td>\n",
              "      <td>15.993</td>\n",
              "      <td>0.98324</td>\n",
              "      <td>112.2000</td>\n",
              "    </tr>\n",
              "    <tr>\n",
              "      <th>2021-04-12 11:00:00</th>\n",
              "      <td>13743.0</td>\n",
              "      <td>5.3980</td>\n",
              "      <td>78.241</td>\n",
              "      <td>1007.77913</td>\n",
              "      <td>24.477</td>\n",
              "      <td>15.992</td>\n",
              "      <td>2.60770</td>\n",
              "      <td>122.9600</td>\n",
              "    </tr>\n",
              "  </tbody>\n",
              "</table>\n",
              "</div>"
            ],
            "text/plain": [
              "                       power  irradiance      rh         slp    temp     vis  \\\n",
              "time                                                                           \n",
              "2021-04-12 07:00:00    286.0     17.0830  90.738  1007.94913  20.958  15.990   \n",
              "2021-04-12 08:00:00   1402.0     15.4290  88.580  1008.19913  21.795  15.989   \n",
              "2021-04-12 09:00:00   3182.0     17.3000  79.975  1008.09913  23.605  15.989   \n",
              "2021-04-12 10:00:00   5907.0      8.0436  81.307  1007.94913  23.553  15.993   \n",
              "2021-04-12 11:00:00  13743.0      5.3980  78.241  1007.77913  24.477  15.992   \n",
              "\n",
              "                     wind_speed  wind_direction  \n",
              "time                                             \n",
              "2021-04-12 07:00:00     1.88180          3.6675  \n",
              "2021-04-12 08:00:00     0.60342         65.7850  \n",
              "2021-04-12 09:00:00     1.19120         16.1020  \n",
              "2021-04-12 10:00:00     0.98324        112.2000  \n",
              "2021-04-12 11:00:00     2.60770        122.9600  "
            ]
          },
          "execution_count": 4,
          "metadata": {},
          "output_type": "execute_result"
        }
      ],
      "source": [
        "df = pd.read_csv('data/SQ8.csv', parse_dates=['time'], index_col='time')\n",
        "df.head()"
      ]
    },
    {
      "cell_type": "markdown",
      "id": "26b5009b",
      "metadata": {
        "id": "features-md"
      },
      "source": [
        "## Choose Features and Target\n",
        "We predict `power` from weather features.\n"
      ]
    },
    {
      "cell_type": "code",
      "execution_count": 5,
      "id": "1ef4262b",
      "metadata": {
        "id": "features"
      },
      "outputs": [
        {
          "data": {
            "text/html": [
              "<div>\n",
              "<style scoped>\n",
              "    .dataframe tbody tr th:only-of-type {\n",
              "        vertical-align: middle;\n",
              "    }\n",
              "\n",
              "    .dataframe tbody tr th {\n",
              "        vertical-align: top;\n",
              "    }\n",
              "\n",
              "    .dataframe thead th {\n",
              "        text-align: right;\n",
              "    }\n",
              "</style>\n",
              "<table border=\"1\" class=\"dataframe\">\n",
              "  <thead>\n",
              "    <tr style=\"text-align: right;\">\n",
              "      <th></th>\n",
              "      <th>irradiance</th>\n",
              "      <th>rh</th>\n",
              "      <th>temp</th>\n",
              "      <th>power</th>\n",
              "    </tr>\n",
              "    <tr>\n",
              "      <th>time</th>\n",
              "      <th></th>\n",
              "      <th></th>\n",
              "      <th></th>\n",
              "      <th></th>\n",
              "    </tr>\n",
              "  </thead>\n",
              "  <tbody>\n",
              "    <tr>\n",
              "      <th>2021-04-12 07:00:00</th>\n",
              "      <td>17.083</td>\n",
              "      <td>90.738</td>\n",
              "      <td>20.958</td>\n",
              "      <td>286.0</td>\n",
              "    </tr>\n",
              "    <tr>\n",
              "      <th>2021-04-12 08:00:00</th>\n",
              "      <td>15.429</td>\n",
              "      <td>88.580</td>\n",
              "      <td>21.795</td>\n",
              "      <td>1402.0</td>\n",
              "    </tr>\n",
              "    <tr>\n",
              "      <th>2021-04-12 09:00:00</th>\n",
              "      <td>17.300</td>\n",
              "      <td>79.975</td>\n",
              "      <td>23.605</td>\n",
              "      <td>3182.0</td>\n",
              "    </tr>\n",
              "  </tbody>\n",
              "</table>\n",
              "</div>"
            ],
            "text/plain": [
              "                     irradiance      rh    temp   power\n",
              "time                                                   \n",
              "2021-04-12 07:00:00      17.083  90.738  20.958   286.0\n",
              "2021-04-12 08:00:00      15.429  88.580  21.795  1402.0\n",
              "2021-04-12 09:00:00      17.300  79.975  23.605  3182.0"
            ]
          },
          "execution_count": 5,
          "metadata": {},
          "output_type": "execute_result"
        }
      ],
      "source": [
        "features = ['irradiance', 'rh', 'temp']\n",
        "target = 'power'\n",
        "df[features + [target]].head(3)\n"
      ]
    },
    {
      "cell_type": "markdown",
      "id": "35a5fa43",
      "metadata": {
        "id": "split-md"
      },
      "source": [
        "## Train/Test Split by Year\n",
        "Train on 2021–2022, test on 2023.\n"
      ]
    },
    {
      "cell_type": "code",
      "execution_count": 6,
      "id": "ef86ca61",
      "metadata": {
        "id": "split"
      },
      "outputs": [
        {
          "name": "stdout",
          "output_type": "stream",
          "text": [
            "Training set:\n"
          ]
        },
        {
          "data": {
            "text/html": [
              "<div>\n",
              "<style scoped>\n",
              "    .dataframe tbody tr th:only-of-type {\n",
              "        vertical-align: middle;\n",
              "    }\n",
              "\n",
              "    .dataframe tbody tr th {\n",
              "        vertical-align: top;\n",
              "    }\n",
              "\n",
              "    .dataframe thead th {\n",
              "        text-align: right;\n",
              "    }\n",
              "</style>\n",
              "<table border=\"1\" class=\"dataframe\">\n",
              "  <thead>\n",
              "    <tr style=\"text-align: right;\">\n",
              "      <th></th>\n",
              "      <th>irradiance</th>\n",
              "      <th>rh</th>\n",
              "      <th>temp</th>\n",
              "    </tr>\n",
              "    <tr>\n",
              "      <th>time</th>\n",
              "      <th></th>\n",
              "      <th></th>\n",
              "      <th></th>\n",
              "    </tr>\n",
              "  </thead>\n",
              "  <tbody>\n",
              "    <tr>\n",
              "      <th>2021-04-12 07:00:00</th>\n",
              "      <td>17.0830</td>\n",
              "      <td>90.738</td>\n",
              "      <td>20.958</td>\n",
              "    </tr>\n",
              "    <tr>\n",
              "      <th>2021-04-12 08:00:00</th>\n",
              "      <td>15.4290</td>\n",
              "      <td>88.580</td>\n",
              "      <td>21.795</td>\n",
              "    </tr>\n",
              "    <tr>\n",
              "      <th>2021-04-12 09:00:00</th>\n",
              "      <td>17.3000</td>\n",
              "      <td>79.975</td>\n",
              "      <td>23.605</td>\n",
              "    </tr>\n",
              "    <tr>\n",
              "      <th>2021-04-12 10:00:00</th>\n",
              "      <td>8.0436</td>\n",
              "      <td>81.307</td>\n",
              "      <td>23.553</td>\n",
              "    </tr>\n",
              "    <tr>\n",
              "      <th>2021-04-12 11:00:00</th>\n",
              "      <td>5.3980</td>\n",
              "      <td>78.241</td>\n",
              "      <td>24.477</td>\n",
              "    </tr>\n",
              "    <tr>\n",
              "      <th>...</th>\n",
              "      <td>...</td>\n",
              "      <td>...</td>\n",
              "      <td>...</td>\n",
              "    </tr>\n",
              "    <tr>\n",
              "      <th>2022-12-31 19:00:00</th>\n",
              "      <td>7.7296</td>\n",
              "      <td>61.192</td>\n",
              "      <td>15.337</td>\n",
              "    </tr>\n",
              "    <tr>\n",
              "      <th>2022-12-31 20:00:00</th>\n",
              "      <td>7.6190</td>\n",
              "      <td>64.047</td>\n",
              "      <td>14.475</td>\n",
              "    </tr>\n",
              "    <tr>\n",
              "      <th>2022-12-31 21:00:00</th>\n",
              "      <td>7.6195</td>\n",
              "      <td>65.872</td>\n",
              "      <td>14.095</td>\n",
              "    </tr>\n",
              "    <tr>\n",
              "      <th>2022-12-31 22:00:00</th>\n",
              "      <td>7.8410</td>\n",
              "      <td>66.376</td>\n",
              "      <td>13.949</td>\n",
              "    </tr>\n",
              "    <tr>\n",
              "      <th>2022-12-31 23:00:00</th>\n",
              "      <td>8.3932</td>\n",
              "      <td>65.290</td>\n",
              "      <td>14.184</td>\n",
              "    </tr>\n",
              "  </tbody>\n",
              "</table>\n",
              "<p>14510 rows × 3 columns</p>\n",
              "</div>"
            ],
            "text/plain": [
              "                     irradiance      rh    temp\n",
              "time                                           \n",
              "2021-04-12 07:00:00     17.0830  90.738  20.958\n",
              "2021-04-12 08:00:00     15.4290  88.580  21.795\n",
              "2021-04-12 09:00:00     17.3000  79.975  23.605\n",
              "2021-04-12 10:00:00      8.0436  81.307  23.553\n",
              "2021-04-12 11:00:00      5.3980  78.241  24.477\n",
              "...                         ...     ...     ...\n",
              "2022-12-31 19:00:00      7.7296  61.192  15.337\n",
              "2022-12-31 20:00:00      7.6190  64.047  14.475\n",
              "2022-12-31 21:00:00      7.6195  65.872  14.095\n",
              "2022-12-31 22:00:00      7.8410  66.376  13.949\n",
              "2022-12-31 23:00:00      8.3932  65.290  14.184\n",
              "\n",
              "[14510 rows x 3 columns]"
            ]
          },
          "execution_count": 6,
          "metadata": {},
          "output_type": "execute_result"
        }
      ],
      "source": [
        "train_years = {2021, 2022}\n",
        "\n",
        "train_mask = df.index.year.isin(train_years)\n",
        "X_train, y_train = df.loc[train_mask, features], df.loc[train_mask, target]\n",
        "\n",
        "\n",
        "test_mask = df.index.year == 2023\n",
        "X_test, y_test = df.loc[test_mask, features], df.loc[test_mask, target]\n",
        "\n",
        "print('Training set:')\n",
        "X_train\n"
      ]
    },
    {
      "cell_type": "markdown",
      "id": "726b2d12",
      "metadata": {},
      "source": [
        "# Scale Features\n",
        "Features are standardized (zero mean, unit variance) with StandardScaler after train/test split."
      ]
    },
    {
      "cell_type": "code",
      "execution_count": 7,
      "id": "4c2a5f7b",
      "metadata": {
        "id": "scale"
      },
      "outputs": [
        {
          "data": {
            "text/html": [
              "<div>\n",
              "<style scoped>\n",
              "    .dataframe tbody tr th:only-of-type {\n",
              "        vertical-align: middle;\n",
              "    }\n",
              "\n",
              "    .dataframe tbody tr th {\n",
              "        vertical-align: top;\n",
              "    }\n",
              "\n",
              "    .dataframe thead th {\n",
              "        text-align: right;\n",
              "    }\n",
              "</style>\n",
              "<table border=\"1\" class=\"dataframe\">\n",
              "  <thead>\n",
              "    <tr style=\"text-align: right;\">\n",
              "      <th></th>\n",
              "      <th>0</th>\n",
              "      <th>1</th>\n",
              "      <th>2</th>\n",
              "    </tr>\n",
              "  </thead>\n",
              "  <tbody>\n",
              "    <tr>\n",
              "      <th>0</th>\n",
              "      <td>-0.555499</td>\n",
              "      <td>-0.829447</td>\n",
              "      <td>-1.664025</td>\n",
              "    </tr>\n",
              "    <tr>\n",
              "      <th>1</th>\n",
              "      <td>-0.557693</td>\n",
              "      <td>-0.636547</td>\n",
              "      <td>-1.785812</td>\n",
              "    </tr>\n",
              "    <tr>\n",
              "      <th>2</th>\n",
              "      <td>-0.558786</td>\n",
              "      <td>-0.488697</td>\n",
              "      <td>-1.907780</td>\n",
              "    </tr>\n",
              "    <tr>\n",
              "      <th>3</th>\n",
              "      <td>-0.557686</td>\n",
              "      <td>-0.470128</td>\n",
              "      <td>-1.966767</td>\n",
              "    </tr>\n",
              "    <tr>\n",
              "      <th>4</th>\n",
              "      <td>-0.553847</td>\n",
              "      <td>-0.455834</td>\n",
              "      <td>-1.999256</td>\n",
              "    </tr>\n",
              "  </tbody>\n",
              "</table>\n",
              "</div>"
            ],
            "text/plain": [
              "          0         1         2\n",
              "0 -0.555499 -0.829447 -1.664025\n",
              "1 -0.557693 -0.636547 -1.785812\n",
              "2 -0.558786 -0.488697 -1.907780\n",
              "3 -0.557686 -0.470128 -1.966767\n",
              "4 -0.553847 -0.455834 -1.999256"
            ]
          },
          "execution_count": 7,
          "metadata": {},
          "output_type": "execute_result"
        }
      ],
      "source": [
        "# Scale features after splitting, before training\n",
        "scaler = StandardScaler()\n",
        "X_train = scaler.fit_transform(X_train)\n",
        "X_test = scaler.transform(X_test)\n",
        "\n",
        "pd.DataFrame(X_test).head()"
      ]
    },
    {
      "cell_type": "markdown",
      "id": "7a9cd9c8",
      "metadata": {
        "id": "train-md"
      },
      "source": [
        "## Train a Linear Regression\n",
        "We fit on the training years and predict the test year.\n"
      ]
    },
    {
      "cell_type": "code",
      "execution_count": null,
      "id": "83eb4668",
      "metadata": {
        "id": "train"
      },
      "outputs": [
        {
          "data": {
            "text/markdown": [
              "## Fitted linear function:\n",
              "$$\\widehat{power} = 3278.16 +4172.76\\,irradiance -743.74\\,rh +639.54\\,temp$$"
            ],
            "text/plain": [
              "<IPython.core.display.Markdown object>"
            ]
          },
          "metadata": {},
          "output_type": "display_data"
        }
      ],
      "source": [
        "from IPython.display import Markdown, display\n",
        "\n",
        "model = LinearRegression()\n",
        "model.fit(X_train, y_train)\n",
        "\n",
        "coef = np.asarray(model.coef_, dtype=float).ravel()\n",
        "intercept = float(model.intercept_)\n",
        "\n",
        "terms = [f\"{intercept:.2f}\"] + [f\"{c:+.2f}\\\\,{name}\" for c, name in zip(coef, features)]\n",
        "eq = \"## Fitted linear function:\\n\" + rf\"$$\\widehat{{{target}}} = \" + ' '.join(terms) + \"$$\"\n",
        "\n",
        "display(Markdown(eq))\n"
      ]
    },
    {
      "cell_type": "markdown",
      "id": "40850372",
      "metadata": {},
      "source": [
        "# Evaluate the trained model\n",
        "Use $MAE$ and $R^2$ evaluation metric to evaluate model performance"
      ]
    },
    {
      "cell_type": "code",
      "execution_count": null,
      "id": "3cdc492f",
      "metadata": {},
      "outputs": [
        {
          "name": "stdout",
          "output_type": "stream",
          "text": [
            "MAE (W): 2102.4 | R^2: 0.58\n"
          ]
        },
        {
          "data": {
            "text/plain": [
              "<Axes: xlabel='time', ylabel='$P_{PV,electric} [W]$'>"
            ]
          },
          "execution_count": 9,
          "metadata": {},
          "output_type": "execute_result"
        },
        {
          "data": {
            "image/png": "[encoded data removed]",
            "text/plain": [
              "<Figure size 640x480 with 1 Axes>"
            ]
          },
          "metadata": {},
          "output_type": "display_data"
        }
      ],
      "source": [
        "y_pred = model.predict(X_test)\n",
        "mae = mean_absolute_error(y_test, y_pred)\n",
        "r2 = r2_score(y_test, y_pred)\n",
        "\n",
        "print('MAE (W):', round(mae,1), '| R^2:', round(r2,3))\n",
        "\n",
        "df_pred = df.copy()\n",
        "df_pred.loc[test_mask, 'predicted_power'] = y_pred\n",
        "df_pred.loc[test_mask, ['power', 'predicted_power']].iloc[:200].plot(ylabel='$P_{PV,electric} [W]$')"
      ]
    },
    {
      "cell_type": "markdown",
      "id": "96ff96a4",
      "metadata": {
        "id": "coef-md"
      },
      "source": [
        "## What Did the Model Learn?\n",
        "Inspect linear coefficients. Larger magnitude = stronger influence.\n"
      ]
    },
    {
      "cell_type": "code",
      "execution_count": 19,
      "id": "fc4bb092",
      "metadata": {
        "id": "coef"
      },
      "outputs": [
        {
          "data": {
            "text/html": [
              "<div>\n",
              "<style scoped>\n",
              "    .dataframe tbody tr th:only-of-type {\n",
              "        vertical-align: middle;\n",
              "    }\n",
              "\n",
              "    .dataframe tbody tr th {\n",
              "        vertical-align: top;\n",
              "    }\n",
              "\n",
              "    .dataframe thead th {\n",
              "        text-align: right;\n",
              "    }\n",
              "</style>\n",
              "<table border=\"1\" class=\"dataframe\">\n",
              "  <thead>\n",
              "    <tr style=\"text-align: right;\">\n",
              "      <th></th>\n",
              "      <th>coef</th>\n",
              "    </tr>\n",
              "  </thead>\n",
              "  <tbody>\n",
              "    <tr>\n",
              "      <th>irradiance</th>\n",
              "      <td>4172.758176</td>\n",
              "    </tr>\n",
              "    <tr>\n",
              "      <th>temp</th>\n",
              "      <td>639.536918</td>\n",
              "    </tr>\n",
              "    <tr>\n",
              "      <th>rh</th>\n",
              "      <td>-743.737345</td>\n",
              "    </tr>\n",
              "  </tbody>\n",
              "</table>\n",
              "</div>"
            ],
            "text/plain": [
              "                   coef\n",
              "irradiance  4172.758176\n",
              "temp         639.536918\n",
              "rh          -743.737345"
            ]
          },
          "metadata": {},
          "output_type": "display_data"
        }
      ],
      "source": [
        "coef = pd.Series(model.coef_, index=features).sort_values(ascending=False)\n",
        "display(coef.to_frame('coef'))\n"
      ]
    },
    {
      "cell_type": "markdown",
      "id": "f18a797c",
      "metadata": {
        "id": "next-md"
      },
      "source": [
        "## Next Steps\n",
        "- Add more features (e.g., rainfall, pressure).\n",
        "- Try different models (e.g., Ridge, Tree-based).\n",
        "- Engineer features (add time, month, ...).\n",
        "- Try another building dataset from the data folder\n"
      ]
    }
  ],
  "metadata": {
    "colab": {
      "provenance": []
    },
    "kernelspec": {
      "display_name": "base",
      "language": "python",
      "name": "python3"
    },
    "language_info": {
      "codemirror_mode": {
        "name": "ipython",
        "version": 3
      },
      "file_extension": ".py",
      "mimetype": "text/x-python",
      "name": "python",
      "nbconvert_exporter": "python",
      "pygments_lexer": "ipython3",
      "version": "3.13.2"
    }
  },
  "nbformat": 4,
  "nbformat_minor": 5
}
